{
 "cells": [
  {
   "cell_type": "code",
   "execution_count": 222,
   "metadata": {},
   "outputs": [],
   "source": [
    "import scipy.stats as ss\n",
    "import statsmodels.stats.power as smp\n",
    "import numpy as np\n",
    "from statsmodels.stats.power import TTestIndPower\n",
    "import pandas as pd\n",
    "import seaborn as sns\n",
    "import matplotlib.pyplot as plt "
   ]
  },
  {
   "cell_type": "code",
   "execution_count": 223,
   "metadata": {},
   "outputs": [],
   "source": [
    "#importar los datos\n",
    "path = \"C:/Users/Carola/Documents/Especializacion_bioinfo/ESTADISTICA/DataSets/tabla_trabajo_final.csv\"\n",
    "df = pd.read_csv(path,sep=',')"
   ]
  },
  {
   "cell_type": "code",
   "execution_count": 224,
   "metadata": {},
   "outputs": [
    {
     "data": {
      "text/html": [
       "<div>\n",
       "<style scoped>\n",
       "    .dataframe tbody tr th:only-of-type {\n",
       "        vertical-align: middle;\n",
       "    }\n",
       "\n",
       "    .dataframe tbody tr th {\n",
       "        vertical-align: top;\n",
       "    }\n",
       "\n",
       "    .dataframe thead th {\n",
       "        text-align: right;\n",
       "    }\n",
       "</style>\n",
       "<table border=\"1\" class=\"dataframe\">\n",
       "  <thead>\n",
       "    <tr style=\"text-align: right;\">\n",
       "      <th></th>\n",
       "      <th>Unnamed: 0</th>\n",
       "      <th>tiempo_maximo</th>\n",
       "      <th>intensidad_maxima</th>\n",
       "      <th>intensidad_minima</th>\n",
       "      <th>tiempo_valle</th>\n",
       "      <th>intensidad_valle</th>\n",
       "      <th>sparks_amplitud</th>\n",
       "      <th>TTP</th>\n",
       "      <th>sparks_tiempo_pico50</th>\n",
       "      <th>sp_tau</th>\n",
       "      <th>TTP50</th>\n",
       "      <th>fullWidth</th>\n",
       "      <th>(ΔF/F0)/ΔTmax</th>\n",
       "      <th>fullDuration</th>\n",
       "      <th>width</th>\n",
       "      <th>high</th>\n",
       "      <th>flag</th>\n",
       "    </tr>\n",
       "  </thead>\n",
       "  <tbody>\n",
       "    <tr>\n",
       "      <th>0</th>\n",
       "      <td>0</td>\n",
       "      <td>13.0</td>\n",
       "      <td>10.925926</td>\n",
       "      <td>7.740741</td>\n",
       "      <td>23.0</td>\n",
       "      <td>7.666667</td>\n",
       "      <td>0.411483</td>\n",
       "      <td>8.0</td>\n",
       "      <td>9.482171</td>\n",
       "      <td>32.285667</td>\n",
       "      <td>4.482171</td>\n",
       "      <td>11.0</td>\n",
       "      <td>0.051435</td>\n",
       "      <td>18.0</td>\n",
       "      <td>25.0</td>\n",
       "      <td>27.0</td>\n",
       "      <td>2.0</td>\n",
       "    </tr>\n",
       "    <tr>\n",
       "      <th>1</th>\n",
       "      <td>1</td>\n",
       "      <td>4.0</td>\n",
       "      <td>10.941176</td>\n",
       "      <td>8.117647</td>\n",
       "      <td>7.0</td>\n",
       "      <td>7.764706</td>\n",
       "      <td>0.347826</td>\n",
       "      <td>2.0</td>\n",
       "      <td>3.206613</td>\n",
       "      <td>9.208165</td>\n",
       "      <td>1.206613</td>\n",
       "      <td>12.0</td>\n",
       "      <td>0.173913</td>\n",
       "      <td>5.0</td>\n",
       "      <td>12.0</td>\n",
       "      <td>17.0</td>\n",
       "      <td>2.0</td>\n",
       "    </tr>\n",
       "    <tr>\n",
       "      <th>2</th>\n",
       "      <td>2</td>\n",
       "      <td>3.0</td>\n",
       "      <td>7.230769</td>\n",
       "      <td>6.884615</td>\n",
       "      <td>4.0</td>\n",
       "      <td>6.615385</td>\n",
       "      <td>0.050279</td>\n",
       "      <td>1.0</td>\n",
       "      <td>2.506131</td>\n",
       "      <td>11.242589</td>\n",
       "      <td>0.506131</td>\n",
       "      <td>18.0</td>\n",
       "      <td>0.050279</td>\n",
       "      <td>2.0</td>\n",
       "      <td>12.0</td>\n",
       "      <td>26.0</td>\n",
       "      <td>1.0</td>\n",
       "    </tr>\n",
       "    <tr>\n",
       "      <th>3</th>\n",
       "      <td>3</td>\n",
       "      <td>15.0</td>\n",
       "      <td>10.363636</td>\n",
       "      <td>7.454545</td>\n",
       "      <td>0.0</td>\n",
       "      <td>9.636364</td>\n",
       "      <td>0.390244</td>\n",
       "      <td>14.0</td>\n",
       "      <td>12.507874</td>\n",
       "      <td>NaN</td>\n",
       "      <td>11.507874</td>\n",
       "      <td>2.0</td>\n",
       "      <td>0.027875</td>\n",
       "      <td>-1.0</td>\n",
       "      <td>17.0</td>\n",
       "      <td>11.0</td>\n",
       "      <td>2.0</td>\n",
       "    </tr>\n",
       "    <tr>\n",
       "      <th>4</th>\n",
       "      <td>4</td>\n",
       "      <td>24.0</td>\n",
       "      <td>10.689655</td>\n",
       "      <td>7.931034</td>\n",
       "      <td>26.0</td>\n",
       "      <td>8.229885</td>\n",
       "      <td>0.347826</td>\n",
       "      <td>13.0</td>\n",
       "      <td>19.740930</td>\n",
       "      <td>7.648054</td>\n",
       "      <td>8.740930</td>\n",
       "      <td>25.0</td>\n",
       "      <td>0.026756</td>\n",
       "      <td>15.0</td>\n",
       "      <td>41.0</td>\n",
       "      <td>87.0</td>\n",
       "      <td>2.0</td>\n",
       "    </tr>\n",
       "  </tbody>\n",
       "</table>\n",
       "</div>"
      ],
      "text/plain": [
       "   Unnamed: 0  tiempo_maximo  intensidad_maxima  intensidad_minima   \n",
       "0           0           13.0          10.925926           7.740741  \\\n",
       "1           1            4.0          10.941176           8.117647   \n",
       "2           2            3.0           7.230769           6.884615   \n",
       "3           3           15.0          10.363636           7.454545   \n",
       "4           4           24.0          10.689655           7.931034   \n",
       "\n",
       "   tiempo_valle  intensidad_valle  sparks_amplitud   TTP   \n",
       "0          23.0          7.666667         0.411483   8.0  \\\n",
       "1           7.0          7.764706         0.347826   2.0   \n",
       "2           4.0          6.615385         0.050279   1.0   \n",
       "3           0.0          9.636364         0.390244  14.0   \n",
       "4          26.0          8.229885         0.347826  13.0   \n",
       "\n",
       "   sparks_tiempo_pico50     sp_tau      TTP50  fullWidth  (ΔF/F0)/ΔTmax   \n",
       "0              9.482171  32.285667   4.482171       11.0       0.051435  \\\n",
       "1              3.206613   9.208165   1.206613       12.0       0.173913   \n",
       "2              2.506131  11.242589   0.506131       18.0       0.050279   \n",
       "3             12.507874        NaN  11.507874        2.0       0.027875   \n",
       "4             19.740930   7.648054   8.740930       25.0       0.026756   \n",
       "\n",
       "   fullDuration  width  high  flag  \n",
       "0          18.0   25.0  27.0   2.0  \n",
       "1           5.0   12.0  17.0   2.0  \n",
       "2           2.0   12.0  26.0   1.0  \n",
       "3          -1.0   17.0  11.0   2.0  \n",
       "4          15.0   41.0  87.0   2.0  "
      ]
     },
     "execution_count": 224,
     "metadata": {},
     "output_type": "execute_result"
    }
   ],
   "source": [
    "df.head(5)"
   ]
  },
  {
   "cell_type": "code",
   "execution_count": 165,
   "metadata": {},
   "outputs": [
    {
     "data": {
      "text/html": [
       "<div>\n",
       "<style scoped>\n",
       "    .dataframe tbody tr th:only-of-type {\n",
       "        vertical-align: middle;\n",
       "    }\n",
       "\n",
       "    .dataframe tbody tr th {\n",
       "        vertical-align: top;\n",
       "    }\n",
       "\n",
       "    .dataframe thead th {\n",
       "        text-align: right;\n",
       "    }\n",
       "</style>\n",
       "<table border=\"1\" class=\"dataframe\">\n",
       "  <thead>\n",
       "    <tr style=\"text-align: right;\">\n",
       "      <th></th>\n",
       "      <th>Unnamed: 0</th>\n",
       "      <th>tiempo_maximo</th>\n",
       "      <th>intensidad_maxima</th>\n",
       "      <th>intensidad_minima</th>\n",
       "      <th>tiempo_valle</th>\n",
       "      <th>intensidad_valle</th>\n",
       "      <th>sparks_amplitud</th>\n",
       "      <th>TTP</th>\n",
       "      <th>sparks_tiempo_pico50</th>\n",
       "      <th>sp_tau</th>\n",
       "      <th>TTP50</th>\n",
       "      <th>fullWidth</th>\n",
       "      <th>(ΔF/F0)/ΔTmax</th>\n",
       "      <th>fullDuration</th>\n",
       "      <th>width</th>\n",
       "      <th>high</th>\n",
       "      <th>flag</th>\n",
       "    </tr>\n",
       "  </thead>\n",
       "  <tbody>\n",
       "    <tr>\n",
       "      <th>count</th>\n",
       "      <td>2397.000000</td>\n",
       "      <td>2336.000000</td>\n",
       "      <td>2336.000000</td>\n",
       "      <td>2336.000000</td>\n",
       "      <td>2336.000000</td>\n",
       "      <td>2336.000000</td>\n",
       "      <td>2336.000000</td>\n",
       "      <td>2336.000000</td>\n",
       "      <td>2336.000000</td>\n",
       "      <td>2069.000000</td>\n",
       "      <td>2336.000000</td>\n",
       "      <td>2336.000000</td>\n",
       "      <td>2336.000000</td>\n",
       "      <td>2336.000000</td>\n",
       "      <td>2397.000000</td>\n",
       "      <td>2397.000000</td>\n",
       "      <td>2397.00000</td>\n",
       "    </tr>\n",
       "    <tr>\n",
       "      <th>mean</th>\n",
       "      <td>9.468919</td>\n",
       "      <td>8.585616</td>\n",
       "      <td>16.546522</td>\n",
       "      <td>13.009426</td>\n",
       "      <td>10.145120</td>\n",
       "      <td>13.905734</td>\n",
       "      <td>0.307328</td>\n",
       "      <td>4.600599</td>\n",
       "      <td>7.418224</td>\n",
       "      <td>29.337625</td>\n",
       "      <td>3.433206</td>\n",
       "      <td>6.950771</td>\n",
       "      <td>0.090817</td>\n",
       "      <td>6.160103</td>\n",
       "      <td>14.815603</td>\n",
       "      <td>18.597413</td>\n",
       "      <td>1.53567</td>\n",
       "    </tr>\n",
       "    <tr>\n",
       "      <th>std</th>\n",
       "      <td>8.807886</td>\n",
       "      <td>6.284302</td>\n",
       "      <td>15.008828</td>\n",
       "      <td>11.534076</td>\n",
       "      <td>6.351037</td>\n",
       "      <td>12.145036</td>\n",
       "      <td>0.803676</td>\n",
       "      <td>4.526220</td>\n",
       "      <td>21.870741</td>\n",
       "      <td>128.084665</td>\n",
       "      <td>21.580814</td>\n",
       "      <td>10.210784</td>\n",
       "      <td>0.107791</td>\n",
       "      <td>5.520145</td>\n",
       "      <td>6.206602</td>\n",
       "      <td>18.520580</td>\n",
       "      <td>0.49883</td>\n",
       "    </tr>\n",
       "    <tr>\n",
       "      <th>min</th>\n",
       "      <td>0.000000</td>\n",
       "      <td>1.000000</td>\n",
       "      <td>2.636364</td>\n",
       "      <td>2.125000</td>\n",
       "      <td>0.000000</td>\n",
       "      <td>2.111111</td>\n",
       "      <td>-0.040698</td>\n",
       "      <td>1.000000</td>\n",
       "      <td>-47.481535</td>\n",
       "      <td>-4608.037502</td>\n",
       "      <td>-69.481535</td>\n",
       "      <td>-166.000000</td>\n",
       "      <td>-0.020349</td>\n",
       "      <td>-24.000000</td>\n",
       "      <td>4.000000</td>\n",
       "      <td>5.000000</td>\n",
       "      <td>1.00000</td>\n",
       "    </tr>\n",
       "    <tr>\n",
       "      <th>25%</th>\n",
       "      <td>3.000000</td>\n",
       "      <td>4.000000</td>\n",
       "      <td>6.117647</td>\n",
       "      <td>5.482069</td>\n",
       "      <td>6.000000</td>\n",
       "      <td>5.571429</td>\n",
       "      <td>0.091938</td>\n",
       "      <td>1.000000</td>\n",
       "      <td>2.655810</td>\n",
       "      <td>8.907313</td>\n",
       "      <td>0.521316</td>\n",
       "      <td>3.000000</td>\n",
       "      <td>0.026786</td>\n",
       "      <td>3.000000</td>\n",
       "      <td>10.000000</td>\n",
       "      <td>11.000000</td>\n",
       "      <td>1.00000</td>\n",
       "    </tr>\n",
       "    <tr>\n",
       "      <th>50%</th>\n",
       "      <td>7.000000</td>\n",
       "      <td>7.000000</td>\n",
       "      <td>7.732143</td>\n",
       "      <td>6.312500</td>\n",
       "      <td>9.000000</td>\n",
       "      <td>6.753378</td>\n",
       "      <td>0.154744</td>\n",
       "      <td>3.000000</td>\n",
       "      <td>5.372176</td>\n",
       "      <td>16.305071</td>\n",
       "      <td>1.379049</td>\n",
       "      <td>6.000000</td>\n",
       "      <td>0.056499</td>\n",
       "      <td>5.000000</td>\n",
       "      <td>14.000000</td>\n",
       "      <td>15.000000</td>\n",
       "      <td>2.00000</td>\n",
       "    </tr>\n",
       "    <tr>\n",
       "      <th>75%</th>\n",
       "      <td>14.000000</td>\n",
       "      <td>12.000000</td>\n",
       "      <td>23.377404</td>\n",
       "      <td>18.333333</td>\n",
       "      <td>13.000000</td>\n",
       "      <td>19.620629</td>\n",
       "      <td>0.263229</td>\n",
       "      <td>7.000000</td>\n",
       "      <td>9.016228</td>\n",
       "      <td>32.808022</td>\n",
       "      <td>3.353218</td>\n",
       "      <td>9.000000</td>\n",
       "      <td>0.111471</td>\n",
       "      <td>9.000000</td>\n",
       "      <td>18.000000</td>\n",
       "      <td>20.000000</td>\n",
       "      <td>2.00000</td>\n",
       "    </tr>\n",
       "    <tr>\n",
       "      <th>max</th>\n",
       "      <td>49.000000</td>\n",
       "      <td>48.000000</td>\n",
       "      <td>124.300000</td>\n",
       "      <td>98.600000</td>\n",
       "      <td>50.000000</td>\n",
       "      <td>98.666667</td>\n",
       "      <td>16.129630</td>\n",
       "      <td>43.000000</td>\n",
       "      <td>785.487402</td>\n",
       "      <td>1624.952729</td>\n",
       "      <td>783.487402</td>\n",
       "      <td>115.000000</td>\n",
       "      <td>1.008814</td>\n",
       "      <td>44.000000</td>\n",
       "      <td>56.000000</td>\n",
       "      <td>506.000000</td>\n",
       "      <td>2.00000</td>\n",
       "    </tr>\n",
       "  </tbody>\n",
       "</table>\n",
       "</div>"
      ],
      "text/plain": [
       "        Unnamed: 0  tiempo_maximo  intensidad_maxima  intensidad_minima   \n",
       "count  2397.000000    2336.000000        2336.000000        2336.000000  \\\n",
       "mean      9.468919       8.585616          16.546522          13.009426   \n",
       "std       8.807886       6.284302          15.008828          11.534076   \n",
       "min       0.000000       1.000000           2.636364           2.125000   \n",
       "25%       3.000000       4.000000           6.117647           5.482069   \n",
       "50%       7.000000       7.000000           7.732143           6.312500   \n",
       "75%      14.000000      12.000000          23.377404          18.333333   \n",
       "max      49.000000      48.000000         124.300000          98.600000   \n",
       "\n",
       "       tiempo_valle  intensidad_valle  sparks_amplitud          TTP   \n",
       "count   2336.000000       2336.000000      2336.000000  2336.000000  \\\n",
       "mean      10.145120         13.905734         0.307328     4.600599   \n",
       "std        6.351037         12.145036         0.803676     4.526220   \n",
       "min        0.000000          2.111111        -0.040698     1.000000   \n",
       "25%        6.000000          5.571429         0.091938     1.000000   \n",
       "50%        9.000000          6.753378         0.154744     3.000000   \n",
       "75%       13.000000         19.620629         0.263229     7.000000   \n",
       "max       50.000000         98.666667        16.129630    43.000000   \n",
       "\n",
       "       sparks_tiempo_pico50       sp_tau        TTP50    fullWidth   \n",
       "count           2336.000000  2069.000000  2336.000000  2336.000000  \\\n",
       "mean               7.418224    29.337625     3.433206     6.950771   \n",
       "std               21.870741   128.084665    21.580814    10.210784   \n",
       "min              -47.481535 -4608.037502   -69.481535  -166.000000   \n",
       "25%                2.655810     8.907313     0.521316     3.000000   \n",
       "50%                5.372176    16.305071     1.379049     6.000000   \n",
       "75%                9.016228    32.808022     3.353218     9.000000   \n",
       "max              785.487402  1624.952729   783.487402   115.000000   \n",
       "\n",
       "       (ΔF/F0)/ΔTmax  fullDuration        width         high        flag  \n",
       "count    2336.000000   2336.000000  2397.000000  2397.000000  2397.00000  \n",
       "mean        0.090817      6.160103    14.815603    18.597413     1.53567  \n",
       "std         0.107791      5.520145     6.206602    18.520580     0.49883  \n",
       "min        -0.020349    -24.000000     4.000000     5.000000     1.00000  \n",
       "25%         0.026786      3.000000    10.000000    11.000000     1.00000  \n",
       "50%         0.056499      5.000000    14.000000    15.000000     2.00000  \n",
       "75%         0.111471      9.000000    18.000000    20.000000     2.00000  \n",
       "max         1.008814     44.000000    56.000000   506.000000     2.00000  "
      ]
     },
     "execution_count": 165,
     "metadata": {},
     "output_type": "execute_result"
    }
   ],
   "source": [
    "df.describe()"
   ]
  },
  {
   "cell_type": "code",
   "execution_count": 166,
   "metadata": {},
   "outputs": [
    {
     "data": {
      "text/plain": [
       "(2397, 17)"
      ]
     },
     "execution_count": 166,
     "metadata": {},
     "output_type": "execute_result"
    }
   ],
   "source": [
    "df.shape"
   ]
  },
  {
   "cell_type": "code",
   "execution_count": 213,
   "metadata": {},
   "outputs": [
    {
     "data": {
      "text/plain": [
       "Unnamed: 0                0\n",
       "tiempo_maximo            61\n",
       "intensidad_maxima        61\n",
       "intensidad_minima        61\n",
       "tiempo_valle             61\n",
       "intensidad_valle         61\n",
       "sparks_amplitud          61\n",
       "TTP                      61\n",
       "sparks_tiempo_pico50     61\n",
       "sp_tau                  328\n",
       "TTP50                    61\n",
       "fullWidth                61\n",
       "(ΔF/F0)/ΔTmax            61\n",
       "fullDuration             61\n",
       "width                     0\n",
       "high                      0\n",
       "flag                      0\n",
       "dtype: int64"
      ]
     },
     "execution_count": 213,
     "metadata": {},
     "output_type": "execute_result"
    }
   ],
   "source": [
    "df.isna().sum()"
   ]
  },
  {
   "attachments": {},
   "cell_type": "markdown",
   "metadata": {},
   "source": [
    "Tratamiento de NaN"
   ]
  },
  {
   "cell_type": "code",
   "execution_count": 214,
   "metadata": {},
   "outputs": [],
   "source": [
    "\n",
    "nan_por_fila = df.isna().sum(axis=1) #número de valores NaN en cada fila utilizando isna().sum(axis=1).\n",
    "filas_a_eliminar = df[nan_por_fila > 5] #filtre filas que tienen más de 5 valores NaN y se almacenan en la variable filas_a_eliminar\n",
    "eliminadas = df[nan_por_fila > 5].copy() #Armo un df con las filas eliminadas\n",
    "df = df.drop(filas_a_eliminar.index)"
   ]
  },
  {
   "cell_type": "code",
   "execution_count": 184,
   "metadata": {},
   "outputs": [
    {
     "data": {
      "text/plain": [
       "Unnamed: 0                0\n",
       "tiempo_maximo             0\n",
       "intensidad_maxima         0\n",
       "intensidad_minima         0\n",
       "tiempo_valle              0\n",
       "intensidad_valle          0\n",
       "sparks_amplitud           0\n",
       "TTP                       0\n",
       "sparks_tiempo_pico50      0\n",
       "sp_tau                  267\n",
       "TTP50                     0\n",
       "fullWidth                 0\n",
       "(ΔF/F0)/ΔTmax             0\n",
       "fullDuration              0\n",
       "width                     0\n",
       "high                      0\n",
       "flag                      0\n",
       "dtype: int64"
      ]
     },
     "execution_count": 184,
     "metadata": {},
     "output_type": "execute_result"
    }
   ],
   "source": [
    "df.isna().sum()"
   ]
  },
  {
   "cell_type": "code",
   "execution_count": 215,
   "metadata": {},
   "outputs": [
    {
     "data": {
      "image/png": "[encoded data removed]",
      "text/plain": [
       "<Figure size 1200x1200 with 20 Axes>"
      ]
     },
     "metadata": {},
     "output_type": "display_data"
    }
   ],
   "source": [
    "df.hist(figsize=(12,12), bins = 30)\n",
    "plt.show()"
   ]
  },
  {
   "cell_type": "code",
   "execution_count": 171,
   "metadata": {},
   "outputs": [],
   "source": [
    "df_1 = df[df[\"flag\"] == 1]\n",
    "df_2 = df[df[\"flag\"] == 2]"
   ]
  },
  {
   "cell_type": "code",
   "execution_count": 172,
   "metadata": {},
   "outputs": [],
   "source": [
    "#plt.hist([df_1[\"(ΔF/F0)/ΔTmax\"], df_2[\"(ΔF/F0)/ΔTmax\"]])"
   ]
  },
  {
   "cell_type": "code",
   "execution_count": 173,
   "metadata": {},
   "outputs": [],
   "source": [
    "#plt.hist([df_1[\"fullDuration\"], df_2[\"fullDuration\"]])"
   ]
  },
  {
   "cell_type": "code",
   "execution_count": 174,
   "metadata": {},
   "outputs": [],
   "source": [
    "#plt.hist([df_1[\"width\"], df_2[\"width\"]])"
   ]
  },
  {
   "cell_type": "code",
   "execution_count": 175,
   "metadata": {},
   "outputs": [
    {
     "data": {
      "text/plain": [
       "<seaborn.axisgrid.FacetGrid at 0x28942188590>"
      ]
     },
     "execution_count": 175,
     "metadata": {},
     "output_type": "execute_result"
    },
    {
     "data": {
      "image/png": "[encoded data removed]",
      "text/plain": [
       "<Figure size 500x500 with 1 Axes>"
      ]
     },
     "metadata": {},
     "output_type": "display_data"
    }
   ],
   "source": [
    "sns.catplot(x=None, y=\"width\", kind=\"box\", data = df_1)"
   ]
  },
  {
   "cell_type": "code",
   "execution_count": null,
   "metadata": {},
   "outputs": [],
   "source": []
  },
  {
   "cell_type": "code",
   "execution_count": 54,
   "metadata": {},
   "outputs": [],
   "source": [
    "#sns.catplot(x=None, y=\"width\", kind=\"box\", data = df_2)"
   ]
  },
  {
   "cell_type": "code",
   "execution_count": 225,
   "metadata": {},
   "outputs": [
    {
     "name": "stderr",
     "output_type": "stream",
     "text": [
      "C:\\Users\\Carola\\AppData\\Local\\Temp\\ipykernel_24416\\3415116265.py:4: UserWarning: Boolean Series key will be reindexed to match DataFrame index.\n",
      "  df_sin_outliers = df_1[(df[\"width\"] >= Q1 - 1.5 * IQR) & (df[\"width\"] <= Q3 + 1.5 * IQR)]\n"
     ]
    }
   ],
   "source": [
    "Q1 = df[\"width\"].quantile(0.02)\n",
    "Q3 = df[\"width\"].quantile(0.98)\n",
    "IQR = Q3 - Q1\n",
    "df_sin_outliers = df_1[(df[\"width\"] >= Q1 - 1.5 * IQR) & (df[\"width\"] <= Q3 + 1.5 * IQR)]\n",
    "# En este código, Q1 y Q3 representan el percentil 2 y 98 de la columna \"width\", respectivamente. \n",
    "# Luego, se calcula el rango intercuartílico (IQR) como la diferencia entre Q3 y Q1. A continuación, \n",
    "# se crea una máscara booleana idx que identifica los valores que están por debajo de (Q1 - 1.5 * IQR) o por encima de (Q3 + 1.5 * IQR). \n",
    "# Finalmente, se utiliza esa máscara para filtrar el DataFrame original df_1 y se asigna el resultado a df_sin_outliers ."
   ]
  },
  {
   "cell_type": "code",
   "execution_count": 131,
   "metadata": {},
   "outputs": [],
   "source": [
    "# En este código, Q1 y Q3 representan el percentil 2 y 98 de la columna \"width\", respectivamente. \n",
    "# Luego, se calcula el rango intercuartílico (IQR) como la diferencia entre Q3 y Q1. A continuación, \n",
    "# se crea una máscara booleana idx que identifica los valores que están por debajo de (Q1 - 1.5 * IQR) o por encima de (Q3 + 1.5 * IQR). \n",
    "# Finalmente, se utiliza esa máscara para filtrar el DataFrame original df_1 y se asigna el resultado a df_sin_outliers .\n",
    "Q1 = df_1[\"width\"].quantile(0.05)\n",
    "Q3 = df_1[\"width\"].quantile(0.95)\n",
    "IQR = Q3 - Q1\n",
    "df_1_sin_outliers = df_1[(df_1[\"width\"] >= Q1 - 1.5 * IQR) & (df_1[\"width\"] <= Q3 + 1.5 * IQR)]\n",
    "\n",
    "Q1 = df_2[\"width\"].quantile(0.05)\n",
    "Q3 = df_2[\"width\"].quantile(0.95)\n",
    "IQR = Q3 - Q1\n",
    "df_2_sin_outliers = df_2[(df_2[\"width\"] >= Q1 - 1.5 * IQR) & (df_2[\"width\"] <= Q3 + 1.5 * IQR)]\n",
    "\n",
    "\n"
   ]
  },
  {
   "cell_type": "code",
   "execution_count": 132,
   "metadata": {},
   "outputs": [
    {
     "data": {
      "text/plain": [
       "<seaborn.axisgrid.FacetGrid at 0x2893e8aa310>"
      ]
     },
     "execution_count": 132,
     "metadata": {},
     "output_type": "execute_result"
    },
    {
     "data": {
      "image/png": "[encoded data removed]",
      "text/plain": [
       "<Figure size 500x500 with 1 Axes>"
      ]
     },
     "metadata": {},
     "output_type": "display_data"
    }
   ],
   "source": [
    "sns.catplot(x=None, y=\"width\", kind=\"box\", data=df_1_sin_outliers)"
   ]
  },
  {
   "cell_type": "code",
   "execution_count": 133,
   "metadata": {},
   "outputs": [
    {
     "data": {
      "text/plain": [
       "<seaborn.axisgrid.FacetGrid at 0x2893e90fb90>"
      ]
     },
     "execution_count": 133,
     "metadata": {},
     "output_type": "execute_result"
    },
    {
     "data": {
      "image/png": "[encoded data removed]",
      "text/plain": [
       "<Figure size 500x500 with 1 Axes>"
      ]
     },
     "metadata": {},
     "output_type": "display_data"
    }
   ],
   "source": [
    "sns.catplot(x=None, y=\"width\", kind=\"box\", data=df_2_sin_outliers)"
   ]
  },
  {
   "cell_type": "code",
   "execution_count": 134,
   "metadata": {},
   "outputs": [
    {
     "data": {
      "text/html": [
       "<div>\n",
       "<style scoped>\n",
       "    .dataframe tbody tr th:only-of-type {\n",
       "        vertical-align: middle;\n",
       "    }\n",
       "\n",
       "    .dataframe tbody tr th {\n",
       "        vertical-align: top;\n",
       "    }\n",
       "\n",
       "    .dataframe thead th {\n",
       "        text-align: right;\n",
       "    }\n",
       "</style>\n",
       "<table border=\"1\" class=\"dataframe\">\n",
       "  <thead>\n",
       "    <tr style=\"text-align: right;\">\n",
       "      <th></th>\n",
       "      <th>Unnamed: 0</th>\n",
       "      <th>tiempo_maximo</th>\n",
       "      <th>intensidad_maxima</th>\n",
       "      <th>intensidad_minima</th>\n",
       "      <th>tiempo_valle</th>\n",
       "      <th>intensidad_valle</th>\n",
       "      <th>sparks_amplitud</th>\n",
       "      <th>TTP</th>\n",
       "      <th>sparks_tiempo_pico50</th>\n",
       "      <th>sp_tau</th>\n",
       "      <th>TTP50</th>\n",
       "      <th>fullWidth</th>\n",
       "      <th>(ΔF/F0)/ΔTmax</th>\n",
       "      <th>fullDuration</th>\n",
       "      <th>width</th>\n",
       "      <th>high</th>\n",
       "      <th>flag</th>\n",
       "    </tr>\n",
       "  </thead>\n",
       "  <tbody>\n",
       "    <tr>\n",
       "      <th>2</th>\n",
       "      <td>2</td>\n",
       "      <td>3.0</td>\n",
       "      <td>7.230769</td>\n",
       "      <td>6.884615</td>\n",
       "      <td>4.0</td>\n",
       "      <td>6.615385</td>\n",
       "      <td>0.050279</td>\n",
       "      <td>1.0</td>\n",
       "      <td>2.506131</td>\n",
       "      <td>11.242589</td>\n",
       "      <td>0.506131</td>\n",
       "      <td>18.0</td>\n",
       "      <td>0.050279</td>\n",
       "      <td>2.0</td>\n",
       "      <td>12.0</td>\n",
       "      <td>26.0</td>\n",
       "      <td>1.0</td>\n",
       "    </tr>\n",
       "    <tr>\n",
       "      <th>25</th>\n",
       "      <td>25</td>\n",
       "      <td>6.0</td>\n",
       "      <td>12.142857</td>\n",
       "      <td>9.761905</td>\n",
       "      <td>7.0</td>\n",
       "      <td>9.095238</td>\n",
       "      <td>0.243902</td>\n",
       "      <td>2.0</td>\n",
       "      <td>4.757271</td>\n",
       "      <td>3.460326</td>\n",
       "      <td>0.757271</td>\n",
       "      <td>6.0</td>\n",
       "      <td>0.121951</td>\n",
       "      <td>3.0</td>\n",
       "      <td>16.0</td>\n",
       "      <td>21.0</td>\n",
       "      <td>1.0</td>\n",
       "    </tr>\n",
       "    <tr>\n",
       "      <th>27</th>\n",
       "      <td>27</td>\n",
       "      <td>2.0</td>\n",
       "      <td>11.769231</td>\n",
       "      <td>9.846154</td>\n",
       "      <td>5.0</td>\n",
       "      <td>9.384615</td>\n",
       "      <td>0.195312</td>\n",
       "      <td>2.0</td>\n",
       "      <td>0.963789</td>\n",
       "      <td>14.896859</td>\n",
       "      <td>0.963789</td>\n",
       "      <td>4.0</td>\n",
       "      <td>0.097656</td>\n",
       "      <td>5.0</td>\n",
       "      <td>8.0</td>\n",
       "      <td>13.0</td>\n",
       "      <td>1.0</td>\n",
       "    </tr>\n",
       "    <tr>\n",
       "      <th>28</th>\n",
       "      <td>28</td>\n",
       "      <td>2.0</td>\n",
       "      <td>11.909091</td>\n",
       "      <td>9.727273</td>\n",
       "      <td>5.0</td>\n",
       "      <td>10.000000</td>\n",
       "      <td>0.224299</td>\n",
       "      <td>1.0</td>\n",
       "      <td>1.525253</td>\n",
       "      <td>21.036657</td>\n",
       "      <td>0.525253</td>\n",
       "      <td>2.0</td>\n",
       "      <td>0.224299</td>\n",
       "      <td>4.0</td>\n",
       "      <td>7.0</td>\n",
       "      <td>11.0</td>\n",
       "      <td>1.0</td>\n",
       "    </tr>\n",
       "    <tr>\n",
       "      <th>29</th>\n",
       "      <td>29</td>\n",
       "      <td>24.0</td>\n",
       "      <td>10.104167</td>\n",
       "      <td>7.927083</td>\n",
       "      <td>25.0</td>\n",
       "      <td>9.312500</td>\n",
       "      <td>0.274639</td>\n",
       "      <td>6.0</td>\n",
       "      <td>21.222022</td>\n",
       "      <td>12.256359</td>\n",
       "      <td>3.222022</td>\n",
       "      <td>9.0</td>\n",
       "      <td>0.045773</td>\n",
       "      <td>7.0</td>\n",
       "      <td>28.0</td>\n",
       "      <td>96.0</td>\n",
       "      <td>1.0</td>\n",
       "    </tr>\n",
       "  </tbody>\n",
       "</table>\n",
       "</div>"
      ],
      "text/plain": [
       "    Unnamed: 0  tiempo_maximo  intensidad_maxima  intensidad_minima   \n",
       "2            2            3.0           7.230769           6.884615  \\\n",
       "25          25            6.0          12.142857           9.761905   \n",
       "27          27            2.0          11.769231           9.846154   \n",
       "28          28            2.0          11.909091           9.727273   \n",
       "29          29           24.0          10.104167           7.927083   \n",
       "\n",
       "    tiempo_valle  intensidad_valle  sparks_amplitud  TTP   \n",
       "2            4.0          6.615385         0.050279  1.0  \\\n",
       "25           7.0          9.095238         0.243902  2.0   \n",
       "27           5.0          9.384615         0.195312  2.0   \n",
       "28           5.0         10.000000         0.224299  1.0   \n",
       "29          25.0          9.312500         0.274639  6.0   \n",
       "\n",
       "    sparks_tiempo_pico50     sp_tau     TTP50  fullWidth  (ΔF/F0)/ΔTmax   \n",
       "2               2.506131  11.242589  0.506131       18.0       0.050279  \\\n",
       "25              4.757271   3.460326  0.757271        6.0       0.121951   \n",
       "27              0.963789  14.896859  0.963789        4.0       0.097656   \n",
       "28              1.525253  21.036657  0.525253        2.0       0.224299   \n",
       "29             21.222022  12.256359  3.222022        9.0       0.045773   \n",
       "\n",
       "    fullDuration  width  high  flag  \n",
       "2            2.0   12.0  26.0   1.0  \n",
       "25           3.0   16.0  21.0   1.0  \n",
       "27           5.0    8.0  13.0   1.0  \n",
       "28           4.0    7.0  11.0   1.0  \n",
       "29           7.0   28.0  96.0   1.0  "
      ]
     },
     "execution_count": 134,
     "metadata": {},
     "output_type": "execute_result"
    }
   ],
   "source": [
    "df_1_sin_outliers.head()"
   ]
  },
  {
   "cell_type": "code",
   "execution_count": 136,
   "metadata": {},
   "outputs": [
    {
     "data": {
      "text/html": [
       "<div>\n",
       "<style scoped>\n",
       "    .dataframe tbody tr th:only-of-type {\n",
       "        vertical-align: middle;\n",
       "    }\n",
       "\n",
       "    .dataframe tbody tr th {\n",
       "        vertical-align: top;\n",
       "    }\n",
       "\n",
       "    .dataframe thead th {\n",
       "        text-align: right;\n",
       "    }\n",
       "</style>\n",
       "<table border=\"1\" class=\"dataframe\">\n",
       "  <thead>\n",
       "    <tr style=\"text-align: right;\">\n",
       "      <th></th>\n",
       "      <th>Unnamed: 0</th>\n",
       "      <th>tiempo_maximo</th>\n",
       "      <th>intensidad_maxima</th>\n",
       "      <th>intensidad_minima</th>\n",
       "      <th>tiempo_valle</th>\n",
       "      <th>intensidad_valle</th>\n",
       "      <th>sparks_amplitud</th>\n",
       "      <th>TTP</th>\n",
       "      <th>sparks_tiempo_pico50</th>\n",
       "      <th>sp_tau</th>\n",
       "      <th>TTP50</th>\n",
       "      <th>fullWidth</th>\n",
       "      <th>(ΔF/F0)/ΔTmax</th>\n",
       "      <th>fullDuration</th>\n",
       "      <th>width</th>\n",
       "      <th>high</th>\n",
       "      <th>flag</th>\n",
       "    </tr>\n",
       "  </thead>\n",
       "  <tbody>\n",
       "    <tr>\n",
       "      <th>0</th>\n",
       "      <td>0</td>\n",
       "      <td>13.0</td>\n",
       "      <td>10.925926</td>\n",
       "      <td>7.740741</td>\n",
       "      <td>23.0</td>\n",
       "      <td>7.666667</td>\n",
       "      <td>0.411483</td>\n",
       "      <td>8.0</td>\n",
       "      <td>9.482171</td>\n",
       "      <td>32.285667</td>\n",
       "      <td>4.482171</td>\n",
       "      <td>11.0</td>\n",
       "      <td>0.051435</td>\n",
       "      <td>18.0</td>\n",
       "      <td>25.0</td>\n",
       "      <td>27.0</td>\n",
       "      <td>2.0</td>\n",
       "    </tr>\n",
       "    <tr>\n",
       "      <th>1</th>\n",
       "      <td>1</td>\n",
       "      <td>4.0</td>\n",
       "      <td>10.941176</td>\n",
       "      <td>8.117647</td>\n",
       "      <td>7.0</td>\n",
       "      <td>7.764706</td>\n",
       "      <td>0.347826</td>\n",
       "      <td>2.0</td>\n",
       "      <td>3.206613</td>\n",
       "      <td>9.208165</td>\n",
       "      <td>1.206613</td>\n",
       "      <td>12.0</td>\n",
       "      <td>0.173913</td>\n",
       "      <td>5.0</td>\n",
       "      <td>12.0</td>\n",
       "      <td>17.0</td>\n",
       "      <td>2.0</td>\n",
       "    </tr>\n",
       "    <tr>\n",
       "      <th>3</th>\n",
       "      <td>3</td>\n",
       "      <td>15.0</td>\n",
       "      <td>10.363636</td>\n",
       "      <td>7.454545</td>\n",
       "      <td>0.0</td>\n",
       "      <td>9.636364</td>\n",
       "      <td>0.390244</td>\n",
       "      <td>14.0</td>\n",
       "      <td>12.507874</td>\n",
       "      <td>NaN</td>\n",
       "      <td>11.507874</td>\n",
       "      <td>2.0</td>\n",
       "      <td>0.027875</td>\n",
       "      <td>-1.0</td>\n",
       "      <td>17.0</td>\n",
       "      <td>11.0</td>\n",
       "      <td>2.0</td>\n",
       "    </tr>\n",
       "    <tr>\n",
       "      <th>4</th>\n",
       "      <td>4</td>\n",
       "      <td>24.0</td>\n",
       "      <td>10.689655</td>\n",
       "      <td>7.931034</td>\n",
       "      <td>26.0</td>\n",
       "      <td>8.229885</td>\n",
       "      <td>0.347826</td>\n",
       "      <td>13.0</td>\n",
       "      <td>19.740930</td>\n",
       "      <td>7.648054</td>\n",
       "      <td>8.740930</td>\n",
       "      <td>25.0</td>\n",
       "      <td>0.026756</td>\n",
       "      <td>15.0</td>\n",
       "      <td>41.0</td>\n",
       "      <td>87.0</td>\n",
       "      <td>2.0</td>\n",
       "    </tr>\n",
       "    <tr>\n",
       "      <th>5</th>\n",
       "      <td>5</td>\n",
       "      <td>4.0</td>\n",
       "      <td>8.090909</td>\n",
       "      <td>7.727273</td>\n",
       "      <td>5.0</td>\n",
       "      <td>7.727273</td>\n",
       "      <td>0.047059</td>\n",
       "      <td>2.0</td>\n",
       "      <td>3.344829</td>\n",
       "      <td>21.746168</td>\n",
       "      <td>1.344829</td>\n",
       "      <td>4.0</td>\n",
       "      <td>0.023529</td>\n",
       "      <td>3.0</td>\n",
       "      <td>8.0</td>\n",
       "      <td>11.0</td>\n",
       "      <td>2.0</td>\n",
       "    </tr>\n",
       "  </tbody>\n",
       "</table>\n",
       "</div>"
      ],
      "text/plain": [
       "   Unnamed: 0  tiempo_maximo  intensidad_maxima  intensidad_minima   \n",
       "0           0           13.0          10.925926           7.740741  \\\n",
       "1           1            4.0          10.941176           8.117647   \n",
       "3           3           15.0          10.363636           7.454545   \n",
       "4           4           24.0          10.689655           7.931034   \n",
       "5           5            4.0           8.090909           7.727273   \n",
       "\n",
       "   tiempo_valle  intensidad_valle  sparks_amplitud   TTP   \n",
       "0          23.0          7.666667         0.411483   8.0  \\\n",
       "1           7.0          7.764706         0.347826   2.0   \n",
       "3           0.0          9.636364         0.390244  14.0   \n",
       "4          26.0          8.229885         0.347826  13.0   \n",
       "5           5.0          7.727273         0.047059   2.0   \n",
       "\n",
       "   sparks_tiempo_pico50     sp_tau      TTP50  fullWidth  (ΔF/F0)/ΔTmax   \n",
       "0              9.482171  32.285667   4.482171       11.0       0.051435  \\\n",
       "1              3.206613   9.208165   1.206613       12.0       0.173913   \n",
       "3             12.507874        NaN  11.507874        2.0       0.027875   \n",
       "4             19.740930   7.648054   8.740930       25.0       0.026756   \n",
       "5              3.344829  21.746168   1.344829        4.0       0.023529   \n",
       "\n",
       "   fullDuration  width  high  flag  \n",
       "0          18.0   25.0  27.0   2.0  \n",
       "1           5.0   12.0  17.0   2.0  \n",
       "3          -1.0   17.0  11.0   2.0  \n",
       "4          15.0   41.0  87.0   2.0  \n",
       "5           3.0    8.0  11.0   2.0  "
      ]
     },
     "execution_count": 136,
     "metadata": {},
     "output_type": "execute_result"
    }
   ],
   "source": [
    "df_2_sin_outliers.head()"
   ]
  },
  {
   "cell_type": "code",
   "execution_count": 179,
   "metadata": {},
   "outputs": [
    {
     "data": {
      "text/plain": [
       "count    1090.000000\n",
       "mean       15.563303\n",
       "std         4.964348\n",
       "min         7.000000\n",
       "25%        12.000000\n",
       "50%        15.000000\n",
       "75%        18.000000\n",
       "max        42.000000\n",
       "Name: width, dtype: float64"
      ]
     },
     "execution_count": 179,
     "metadata": {},
     "output_type": "execute_result"
    }
   ],
   "source": [
    "df_1_sin_outliers[\"width\"].describe()"
   ]
  },
  {
   "cell_type": "code",
   "execution_count": 138,
   "metadata": {},
   "outputs": [
    {
     "data": {
      "text/plain": [
       "count    1246.000000\n",
       "mean       14.262440\n",
       "std         6.990825\n",
       "min         4.000000\n",
       "25%         9.000000\n",
       "50%        12.000000\n",
       "75%        17.000000\n",
       "max        53.000000\n",
       "Name: width, dtype: float64"
      ]
     },
     "execution_count": 138,
     "metadata": {},
     "output_type": "execute_result"
    }
   ],
   "source": [
    "df_2_sin_outliers[\"width\"].describe()"
   ]
  },
  {
   "attachments": {},
   "cell_type": "markdown",
   "metadata": {},
   "source": []
  },
  {
   "cell_type": "code",
   "execution_count": null,
   "metadata": {},
   "outputs": [],
   "source": [
    "tab = pd.DataFrame(df, index=['tiempo_maximo', 'intensidad_maxima', 'intensidad_minima', \n",
    "                               'tiempo_valle', 'intensidad_valle','sparks_amplitud','TTP',\n",
    "                               'sparks_tiempo_pico50','sp_tau','TTP50','fullWidth','(ΔF/F0)/ΔTmax',\n",
    "                               'fullDuration','width','high','flag'])\n",
    "\n",
    "# Definir los parámetros\n",
    "nivel_confianza = 0.95\n",
    "\n",
    "# Crear una instancia de la clase TTestIndPower\n",
    "ttp = TTestIndPower()\n",
    "\n",
    "# Crear una lista para almacenar los tamaños muestrales\n",
    "tamanios_muestrales = []\n",
    "\n",
    "# Recorrer las columnas del DataFrame original\n",
    "for columna in tab.columns:\n",
    "    # Obtener los valores de la columna y la última columna (flag)\n",
    "    valores = tab[columna]\n",
    "    poblacion = tab['flag']\n",
    "    \n",
    "    # Filtrar los valores para cada población\n",
    "    poblacion_1 = valores[poblacion == 1]\n",
    "    poblacion_2 = valores[poblacion == 2]\n",
    "    mean1 = np.mean(poblacion1)\n",
    "    mean2 = np.mean(poblacion2)\n",
    "    #margen de eror dentro de cada una diferencia de medias\n",
    "    # Calcular el tamaño muestral para cada población utilizando statsmodels\n",
    "    tamanio_muestral_1 = ttp.solve_power(effect_size= (abs(mean1-mean2))/ poblacion_1.std(),\n",
    "                                         alpha=1 - nivel_confianza,\n",
    "                                         power=0.8,\n",
    "                                         ratio=1.0,\n",
    "                                         alternative='two-sided')\n",
    "    \n",
    "    tamanio_muestral_2 = ttp.solve_power(effect_size=(abs(mean1-mean2))/ poblacion_2.std(),\n",
    "                                         alpha=1 - nivel_confianza,\n",
    "                                         power=0.8,\n",
    "                                         ratio=1.0,\n",
    "                                         alternative='two-sided')\n",
    "\n",
    "    # Redondear al número entero más cercano---round()para redondear numeros\n",
    "    #tamanio_muestral_1 = math.ceil(tamanio_muestral_1)\n",
    "    #tamanio_muestral_2 = math.ceil(tamanio_muestral_2)\n",
    "    \n",
    "    # Agregar los tamaños muestrales a la lista\n",
    "    tamanios_muestrales.append({'Columna': columna, 'Población 1': tamanio_muestral_1, 'Población 2': tamanio_muestral_2})\n",
    "\n",
    "# Convertir la lista en un DataFrame\n",
    "tammues = pd.DataFrame(tamanios_muestrales)\n",
    "\n",
    "# Imprimir el DataFrame de resultados\n",
    "print(tammues)\n",
    "import math\n",
    "import pandas as pd\n",
    "from statsmodels.stats.power import TTestIndPower\n",
    "si te dio y me queres contar como lo solucionaste feliz y agradecida"
   ]
  },
  {
   "attachments": {},
   "cell_type": "markdown",
   "metadata": {},
   "source": [
    "Tamanio Muestral"
   ]
  },
  {
   "cell_type": "code",
   "execution_count": 201,
   "metadata": {},
   "outputs": [
    {
     "name": "stdout",
     "output_type": "stream",
     "text": [
      "El tamanio muestral es:  63\n"
     ]
    }
   ],
   "source": [
    "sample_size = smp.tt_ind_solve_power(effect_size=0.5, alpha = 0.05, power=0.8)\n",
    "print(\"El tamanio muestral es: \", int(sample_size))"
   ]
  },
  {
   "cell_type": "code",
   "execution_count": 178,
   "metadata": {},
   "outputs": [
    {
     "name": "stdout",
     "output_type": "stream",
     "text": [
      "ShapiroResult(statistic=0.8477550745010376, pvalue=5.590924067605381e-33)\n",
      "ShapiroResult(statistic=0.9395408034324646, pvalue=1.1941276258043541e-20)\n"
     ]
    }
   ],
   "source": [
    "#Contraste de hipótesis\n",
    "    #H0: los datos provienen de una distribución normal\n",
    "    #H1: los datos no provienen de una distribución normal\n",
    "\n",
    "print(ss.shapiro(df_2_sin_outliers[\"width\"]))\n",
    "print(ss.shapiro(df_1_sin_outliers[\"width\"]))\n",
    "\n",
    "#como p es muy peq la distribucion no es normal"
   ]
  },
  {
   "attachments": {},
   "cell_type": "markdown",
   "metadata": {},
   "source": [
    "La prueba de Mann-Whitney U, también conocida como U de Mann-Whitney-Wilcoxon o prueba de rangos con signos, es un test no paramétrico utilizado para determinar si hay una diferencia significativa entre dos grupos independientes en una variable continua.\n",
    "\n",
    "La prueba de Mann-Whitney U se utiliza cuando no se cumplen los supuestos de normalidad o igualdad de varianzas necesarios para realizar una prueba t de Student. En su lugar, se basa en los rangos de los datos para evaluar si hay una diferencia significativa entre los dos grupos.\n",
    "\n",
    "El objetivo de la prueba de Mann-Whitney U es determinar si las muestras de dos grupos provienen de la misma población o si tienen una distribución de valores significativamente diferente. La hipótesis nula (H0) establece que no hay diferencia entre los grupos, mientras que la hipótesis alternativa (H1) establece que hay una diferencia significativa.\n",
    "\n",
    "El procedimiento de la prueba de Mann-Whitney U implica asignar rangos a los valores de las dos muestras combinadas y calcular una estadística de prueba U. Luego, se compara el valor obtenido de la estadística de prueba con los valores críticos de la distribución de U para determinar si se rechaza o no la hipótesis nula.\n",
    "\n",
    "Si la estadística de prueba U es menor que el valor crítico, se concluye que hay una diferencia significativa entre los grupos. En caso contrario, no se puede rechazar la hipótesis nula y se concluye que no hay evidencia suficiente para afirmar que los grupos difieren significativamente."
   ]
  },
  {
   "cell_type": "code",
   "execution_count": null,
   "metadata": {},
   "outputs": [],
   "source": [
    "sample_size()"
   ]
  },
  {
   "attachments": {},
   "cell_type": "markdown",
   "metadata": {},
   "source": [
    "Contraste de hipotesis, test no parametricos: Mann Whitney y Wiilcoxon"
   ]
  },
  {
   "cell_type": "code",
   "execution_count": 199,
   "metadata": {},
   "outputs": [
    {
     "data": {
      "text/plain": [
       "MannwhitneyuResult(statistic=838190.0, pvalue=1.0946729734710784e-22)"
      ]
     },
     "execution_count": 199,
     "metadata": {},
     "output_type": "execute_result"
    }
   ],
   "source": [
    "\n",
    "# asumir que las distribuciones tienen la misma forma\n",
    "ss.mannwhitneyu(df_1_sin_outliers[\"width\"],  df_2_sin_outliers[\"width\"], use_continuity=True, alternative='two-sided', axis=0, method='auto', nan_policy='propagate', keepdims=False)\n",
    "\n",
    "#un valor p tan pequeño sugiere fuertemente que hay una diferencia significativa entre \n",
    "# los grupos que estás comparando. Por lo tanto, puedes concluir que existe evidencia \n",
    "# estadística sólida para rechazar la hipótesis nula y afirmar que los grupos difieren \n",
    "# de manera significativa en la variable que se está analizando"
   ]
  },
  {
   "cell_type": "code",
   "execution_count": 198,
   "metadata": {},
   "outputs": [
    {
     "name": "stdout",
     "output_type": "stream",
     "text": [
      "(1246, 17)\n",
      "(1090, 17)\n",
      "(1090, 17)\n"
     ]
    },
    {
     "data": {
      "text/plain": [
       "WilcoxonResult(statistic=201284.5, pvalue=1.0559557312667537e-12)"
      ]
     },
     "execution_count": 198,
     "metadata": {},
     "output_type": "execute_result"
    }
   ],
   "source": [
    "#para realizar el test de wilcoxon debemos tener columnas con igual largo. \n",
    "# Es por esto que hice un a reduccion aleatoria del numero de filas para que el largo este igualado\n",
    "print(df_2_sin_outliers.shape)\n",
    "print(df_1_sin_outliers.shape)\n",
    "df_2_sin_outliers_red= df_2_sin_outliers.sample(1090)\n",
    "print(df_2_sin_outliers_red.shape)\n",
    "ss.wilcoxon(df_1_sin_outliers[\"width\"],  df_2_sin_outliers_red[\"width\"], zero_method='wilcox', correction=False, alternative='two-sided', method='auto', axis=0, nan_policy='propagate', keepdims = False)\n"
   ]
  },
  {
   "cell_type": "code",
   "execution_count": 190,
   "metadata": {},
   "outputs": [
    {
     "data": {
      "text/plain": [
       "WilcoxonResult(statistic=196984.0, pvalue=2.6869549995588936e-13)"
      ]
     },
     "execution_count": 190,
     "metadata": {},
     "output_type": "execute_result"
    }
   ],
   "source": [
    "ss.wilcoxon(df_1_sin_outliers[\"width\"], df_2_sin_outliers_red[\"width\"], zero_method='wilcox', correction=False, alternative='two-sided', method='auto', axis=0, nan_policy='propagate', keepdims = False)"
   ]
  },
  {
   "attachments": {},
   "cell_type": "markdown",
   "metadata": {},
   "source": [
    "para estimar los intervalos de confianza en la prueba de Mann-Whitney U, puedes seguir estos pasos:\n",
    "\n",
    "    Realiza la prueba de Mann-Whitney U utilizando la función correspondiente en una biblioteca estadística como scipy en Python. Esta prueba compara la distribución de dos grupos y evalúa si hay una diferencia significativa entre ellos.\n",
    "\n",
    "    Obtén el valor del estadístico de prueba U y el valor p resultante de la prueba. Estos valores te ayudarán a interpretar los resultados y a determinar si hay una diferencia significativa entre los grupos.\n",
    "\n",
    "    Si deseas estimar un intervalo de confianza para la diferencia de medianas entre los dos grupos, puedes utilizar un enfoque de intervalo de confianza basado en la distribución exacta o aproximada de U. Estos enfoques están disponibles en algunas bibliotecas estadísticas, como scipy.stats, y dependen de las suposiciones de continuidad o independencia entre las muestras.\n",
    "\n",
    "    También puedes utilizar métodos de aproximación, como el enfoque de normalidad asintótica, si el tamaño de la muestra es lo suficientemente grande. En este caso, puedes utilizar la fórmula del intervalo de confianza basado en la aproximación normal para la diferencia de medianas.\n",
    "\n",
    "Es importante tener en cuenta que el cálculo de intervalos de confianza para la prueba de Mann-Whitney U puede variar según la biblioteca y el software estadístico utilizado. Asegúrate de consultar la documentación correspondiente y seguir las instrucciones específicas para obtener los intervalos de confianza adecuados para tus datos y análisis."
   ]
  },
  {
   "attachments": {},
   "cell_type": "markdown",
   "metadata": {},
   "source": [
    "# Datos\n",
    "data = df_1_sin_outliers[\"width\"]\n",
    "\n",
    "\n",
    "# Crea las categorías\n",
    "categories = []\n",
    "for value in data:\n",
    "    if value <= np.percentile(data, 25):\n",
    "        categories.append(\"Q1_width\")\n",
    "    elif value <= np.percentile(data, 50):\n",
    "        categories.append(\"Q2_width\")\n",
    "    elif value <= np.percentile(data, 75):\n",
    "        categories.append(\"Q3_width\")\n",
    "    else:\n",
    "        categories.append(\"Q4_width\")\n",
    "\n",
    "\n",
    "\n",
    "# Datos\n",
    "datos = df_1_sin_outliers[\"tiempo_valle\"]\n",
    "\n",
    "# Crea las categorías\n",
    "categories = []\n",
    "for value in datos:\n",
    "    if value <= np.percentile(data, 25):\n",
    "        categories.append(\"Q1_tiempo_valle\")\n",
    "    elif value <= np.percentile(data, 50):\n",
    "        categories.append(\"Q2_tiempo_valle\")\n",
    "    elif value <= np.percentile(data, 75):\n",
    "        categories.append(\"Q3_tiempo_valle\")\n",
    "    else:\n",
    "        categories.append(\"Q4_tiempo_valle\")\n"
   ]
  },
  {
   "cell_type": "code",
   "execution_count": null,
   "metadata": {},
   "outputs": [],
   "source": [
    "# Datos\n",
    "data = df_1_sin_outliers[\"width\"]\n",
    "\n",
    "\n",
    "# Crea las categorías\n",
    "categories = []\n",
    "for value in data:\n",
    "    if value <= np.percentile(data, 50):\n",
    "        categories.append(\"Q1_width\")\n",
    "    else:\n",
    "        categories.append(\"Q2_width\")\n",
    "\n",
    "\n",
    "\n",
    "# Datos\n",
    "datos = df_1_sin_outliers[\"tiempo_valle\"]\n",
    "\n",
    "# Crea las categorías\n",
    "categories = []\n",
    "for value in datos:\n",
    "    if value <= np.percentile(data, 50):\n",
    "        categories.append(\"Q1_tiempo_valle\")\n",
    "    else:\n",
    "        categories.append(\"Q2_tiempo_valle\")"
   ]
  },
  {
   "cell_type": "code",
   "execution_count": 221,
   "metadata": {},
   "outputs": [
    {
     "name": "stdout",
     "output_type": "stream",
     "text": [
      "Chi-Square Test Results:\n"
     ]
    },
    {
     "ename": "NameError",
     "evalue": "name 'p' is not defined",
     "output_type": "error",
     "traceback": [
      "\u001b[1;31m---------------------------------------------------------------------------\u001b[0m",
      "\u001b[1;31mNameError\u001b[0m                                 Traceback (most recent call last)",
      "Cell \u001b[1;32mIn[221], line 16\u001b[0m\n\u001b[0;32m     14\u001b[0m \u001b[39m# Print the chi-square test results\u001b[39;00m\n\u001b[0;32m     15\u001b[0m \u001b[39mprint\u001b[39m(\u001b[39m\"\u001b[39m\u001b[39mChi-Square Test Results:\u001b[39m\u001b[39m\"\u001b[39m)\n\u001b[1;32m---> 16\u001b[0m p\n",
      "\u001b[1;31mNameError\u001b[0m: name 'p' is not defined"
     ]
    }
   ],
   "source": [
    "import pandas as pd\n",
    "import scipy.stats as ss\n",
    "\n",
    "# Create the conditions using correct comparison operators\n",
    "a_width = (df_1_sin_outliers[\"width\"] > 14.815603)\n",
    "b_width = (df_1_sin_outliers[\"width\"] <= 14.815603) \n",
    "\n",
    "# Create a contingency table using groupby\n",
    "contingency_table = df.groupby([a_width, b_width])['flag'].count()#.unstack(fill_value=0) #se supone que  con unstack me deberia dar una tabla de 2*2\n",
    "\n",
    "# Perform the chi-square test\n",
    "chi2, p_value, _, _ = ss.chi2_contingency(contingency_table)\n",
    "\n",
    "# Print the chi-square test results\n",
    "print(\"Chi-Square Test Results:\")\n",
    "p"
   ]
  },
  {
   "attachments": {},
   "cell_type": "markdown",
   "metadata": {},
   "source": [
    "Test de correlación"
   ]
  },
  {
   "cell_type": "code",
   "execution_count": 216,
   "metadata": {},
   "outputs": [
    {
     "name": "stdout",
     "output_type": "stream",
     "text": [
      "Coeficiente de correlación: 0.7505552272726981\n",
      "Valor p: 5.617677044070145e-198\n"
     ]
    }
   ],
   "source": [
    "#determinar si existe una asociación entre dos variables y la fuerza de esta asociación.\n",
    "#Coeficiente de correlación de Pearson: Es un test paramétrico que se utiliza para medir \n",
    "# la relación lineal entre dos variables continuas. El coeficiente de correlación de Pearson\n",
    "# toma valores entre -1 y 1, donde -1 indica una correlación negativa perfecta, 0 indica \\\n",
    "# ausencia de correlación, y 1 indica una correlación positiva perfecta.\n",
    "\n",
    "\n",
    "from scipy.stats import pearsonr\n",
    "\n",
    "\n",
    "#test de correlación de Pearson\n",
    "corr, p_value = pearsonr(df_1_sin_outliers[\"width\"], df_1_sin_outliers[\"tiempo_valle\"])\n",
    "\n",
    "print(\"Coeficiente de correlación:\", corr)\n",
    "print(\"Valor p:\", p_value)"
   ]
  },
  {
   "cell_type": "code",
   "execution_count": 226,
   "metadata": {},
   "outputs": [
    {
     "name": "stdout",
     "output_type": "stream",
     "text": [
      "\n"
     ]
    }
   ],
   "source": [
    "print()"
   ]
  },
  {
   "cell_type": "code",
   "execution_count": null,
   "metadata": {},
   "outputs": [],
   "source": []
  },
  {
   "cell_type": "code",
   "execution_count": null,
   "metadata": {},
   "outputs": [],
   "source": []
  },
  {
   "cell_type": "code",
   "execution_count": null,
   "metadata": {},
   "outputs": [],
   "source": []
  },
  {
   "cell_type": "code",
   "execution_count": null,
   "metadata": {},
   "outputs": [],
   "source": []
  },
  {
   "cell_type": "code",
   "execution_count": null,
   "metadata": {},
   "outputs": [],
   "source": []
  },
  {
   "cell_type": "code",
   "execution_count": 14,
   "metadata": {},
   "outputs": [
    {
     "data": {
      "text/plain": [
       "<Axes: >"
      ]
     },
     "execution_count": 14,
     "metadata": {},
     "output_type": "execute_result"
    },
    {
     "data": {
      "image/png": "[encoded data removed]",
      "text/plain": [
       "<Figure size 640x480 with 1 Axes>"
      ]
     },
     "metadata": {},
     "output_type": "display_data"
    }
   ],
   "source": [
    "df[\"tiempo_maximo\"].hist()"
   ]
  },
  {
   "cell_type": "code",
   "execution_count": 15,
   "metadata": {},
   "outputs": [
    {
     "data": {
      "text/plain": [
       "<Axes: >"
      ]
     },
     "execution_count": 15,
     "metadata": {},
     "output_type": "execute_result"
    },
    {
     "data": {
      "image/png": "[encoded data removed]",
      "text/plain": [
       "<Figure size 640x480 with 1 Axes>"
      ]
     },
     "metadata": {},
     "output_type": "display_data"
    }
   ],
   "source": [
    "df[\"intensidad_maxima\"].hist()"
   ]
  },
  {
   "cell_type": "code",
   "execution_count": 16,
   "metadata": {},
   "outputs": [
    {
     "data": {
      "text/plain": [
       "<Axes: >"
      ]
     },
     "execution_count": 16,
     "metadata": {},
     "output_type": "execute_result"
    },
    {
     "data": {
      "image/png": "[encoded data removed]",
      "text/plain": [
       "<Figure size 640x480 with 1 Axes>"
      ]
     },
     "metadata": {},
     "output_type": "display_data"
    }
   ],
   "source": [
    "df[\"(ΔF/F0)/ΔTmax\"].hist()"
   ]
  }
 ],
 "metadata": {
  "kernelspec": {
   "display_name": "Python 3",
   "language": "python",
   "name": "python3"
  },
  "language_info": {
   "codemirror_mode": {
    "name": "ipython",
    "version": 3
   },
   "file_extension": ".py",
   "mimetype": "text/x-python",
   "name": "python",
   "nbconvert_exporter": "python",
   "pygments_lexer": "ipython3",
   "version": "3.11.3"
  },
  "orig_nbformat": 4
 },
 "nbformat": 4,
 "nbformat_minor": 2
}
